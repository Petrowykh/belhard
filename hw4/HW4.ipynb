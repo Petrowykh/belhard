{
  "nbformat": 4,
  "nbformat_minor": 0,
  "metadata": {
    "colab": {
      "provenance": [],
      "authorship_tag": "ABX9TyPtxlcnvTqWx0gm2rZWpxtE",
      "include_colab_link": true
    },
    "kernelspec": {
      "name": "python3",
      "display_name": "Python 3"
    },
    "language_info": {
      "name": "python"
    }
  },
  "cells": [
    {
      "cell_type": "markdown",
      "metadata": {
        "id": "view-in-github",
        "colab_type": "text"
      },
      "source": [
        "<a href=\"https://colab.research.google.com/github/Petrowykh/belhard/blob/main/hw4/HW4.ipynb\" target=\"_parent\"><img src=\"https://colab.research.google.com/assets/colab-badge.svg\" alt=\"Open In Colab\"/></a>"
      ]
    },
    {
      "cell_type": "code",
      "execution_count": 1,
      "metadata": {
        "colab": {
          "base_uri": "https://localhost:8080/"
        },
        "id": "XZunVr_e9l5T",
        "outputId": "454f3039-0e9d-401d-fa75-32a83f50ad49"
      },
      "outputs": [
        {
          "output_type": "stream",
          "name": "stdout",
          "text": [
            "Collecting deap\n",
            "  Downloading deap-1.4.1-cp310-cp310-manylinux_2_5_x86_64.manylinux1_x86_64.manylinux_2_17_x86_64.manylinux2014_x86_64.whl (135 kB)\n",
            "\u001b[?25l     \u001b[90m━━━━━━━━━━━━━━━━━━━━━━━━━━━━━━━━━━━━━━━━\u001b[0m \u001b[32m0.0/135.4 kB\u001b[0m \u001b[31m?\u001b[0m eta \u001b[36m-:--:--\u001b[0m\r\u001b[2K     \u001b[91m━━━━━━━━━━━━━━━━━━━━━━━━━━━━━━━━━━━━━━━\u001b[0m\u001b[90m╺\u001b[0m \u001b[32m133.1/135.4 kB\u001b[0m \u001b[31m3.9 MB/s\u001b[0m eta \u001b[36m0:00:01\u001b[0m\r\u001b[2K     \u001b[90m━━━━━━━━━━━━━━━━━━━━━━━━━━━━━━━━━━━━━━━━\u001b[0m \u001b[32m135.4/135.4 kB\u001b[0m \u001b[31m3.2 MB/s\u001b[0m eta \u001b[36m0:00:00\u001b[0m\n",
            "\u001b[?25hRequirement already satisfied: numpy in /usr/local/lib/python3.10/dist-packages (from deap) (1.25.2)\n",
            "Installing collected packages: deap\n",
            "Successfully installed deap-1.4.1\n"
          ]
        }
      ],
      "source": [
        "!pip install deap"
      ]
    },
    {
      "cell_type": "code",
      "source": [
        "from deap import base, algorithms\n",
        "from deap import creator\n",
        "from deap import tools"
      ],
      "metadata": {
        "id": "kIvEiKBI9xgP"
      },
      "execution_count": 2,
      "outputs": []
    },
    {
      "cell_type": "code",
      "source": [
        "import random\n",
        "import matplotlib.pyplot as plt\n",
        "import numpy as np"
      ],
      "metadata": {
        "id": "4hH8-dT690FO"
      },
      "execution_count": 3,
      "outputs": []
    },
    {
      "cell_type": "code",
      "source": [
        "!pip install gym"
      ],
      "metadata": {
        "colab": {
          "base_uri": "https://localhost:8080/"
        },
        "id": "lkNgBKPV93XG",
        "outputId": "d97b52bc-1e95-4d25-92c5-b3ecbfe8026e"
      },
      "execution_count": 4,
      "outputs": [
        {
          "output_type": "stream",
          "name": "stdout",
          "text": [
            "Requirement already satisfied: gym in /usr/local/lib/python3.10/dist-packages (0.25.2)\n",
            "Requirement already satisfied: numpy>=1.18.0 in /usr/local/lib/python3.10/dist-packages (from gym) (1.25.2)\n",
            "Requirement already satisfied: cloudpickle>=1.2.0 in /usr/local/lib/python3.10/dist-packages (from gym) (2.2.1)\n",
            "Requirement already satisfied: gym-notices>=0.0.4 in /usr/local/lib/python3.10/dist-packages (from gym) (0.0.8)\n"
          ]
        }
      ]
    },
    {
      "cell_type": "code",
      "source": [
        "import gym"
      ],
      "metadata": {
        "id": "gcvfxH4q-L8z"
      },
      "execution_count": 6,
      "outputs": []
    },
    {
      "cell_type": "code",
      "source": [
        "env = gym.make('MountainCar-v0')\n",
        "\n",
        "LENGTH_CHROM = 200    # длина хромосомы, подлежащей оптимизации\n",
        "\n",
        "# константы генетического алгоритма\n",
        "POPULATION_SIZE = 50   # количество индивидуумов в популяции\n",
        "P_CROSSOVER = 0.9       # вероятность скрещивания\n",
        "P_MUTATION = 0.2        # вероятность мутации индивидуума\n",
        "MAX_GENERATIONS = 150    # максимальное количество поколений\n",
        "HALL_OF_FAME_SIZE = 3\n",
        "\n",
        "hof = tools.HallOfFame(HALL_OF_FAME_SIZE)\n",
        "\n",
        "RANDOM_SEED = 42\n",
        "random.seed(RANDOM_SEED)"
      ],
      "metadata": {
        "colab": {
          "base_uri": "https://localhost:8080/"
        },
        "id": "Gd_dFgpz-IE0",
        "outputId": "0250d1a2-5c55-4433-ffac-dd47ec656e5a"
      },
      "execution_count": 7,
      "outputs": [
        {
          "output_type": "stream",
          "name": "stderr",
          "text": [
            "/usr/local/lib/python3.10/dist-packages/gym/core.py:317: DeprecationWarning: \u001b[33mWARN: Initializing wrapper in old step API which returns one bool instead of two. It is recommended to set `new_step_api=True` to use new step API. This will be the default behaviour in future.\u001b[0m\n",
            "  deprecation(\n",
            "/usr/local/lib/python3.10/dist-packages/gym/wrappers/step_api_compatibility.py:39: DeprecationWarning: \u001b[33mWARN: Initializing environment in old step API which returns one bool instead of two. It is recommended to set `new_step_api=True` to use new step API. This will be the default behaviour in future.\u001b[0m\n",
            "  deprecation(\n"
          ]
        }
      ]
    },
    {
      "cell_type": "code",
      "source": [
        "creator.create(\"FitnessMin\", base.Fitness, weights=(-1.0,))\n",
        "creator.create(\"Individual\", list, fitness=creator.FitnessMin)"
      ],
      "metadata": {
        "id": "awvNy-dB-fmO"
      },
      "execution_count": 8,
      "outputs": []
    },
    {
      "cell_type": "code",
      "source": [
        "toolbox = base.Toolbox()\n",
        "toolbox.register(\"randomAction\", random.randint, 0, 2)\n",
        "toolbox.register(\"individualCreator\", tools.initRepeat, creator.Individual, toolbox.randomAction, LENGTH_CHROM)\n",
        "toolbox.register(\"populationCreator\", tools.initRepeat, list, toolbox.individualCreator)"
      ],
      "metadata": {
        "id": "IRIU5Q52-nJ2"
      },
      "execution_count": 9,
      "outputs": []
    },
    {
      "cell_type": "code",
      "source": [
        "population = toolbox.populationCreator(n=POPULATION_SIZE)"
      ],
      "metadata": {
        "id": "WJnYv53k-qWe"
      },
      "execution_count": 10,
      "outputs": []
    },
    {
      "cell_type": "code",
      "source": [
        "def getCarScore(individual):\n",
        "    FLAG_LOCATION = 0.5\n",
        "    observation = env.reset()\n",
        "    actionCounter = 0\n",
        "\n",
        "    for action in individual:\n",
        "        actionCounter += 1\n",
        "        observation, reward, done, info = env.step(action)\n",
        "\n",
        "        if done:\n",
        "            break\n",
        "\n",
        "    if actionCounter < LENGTH_CHROM:\n",
        "        score = 0 - (LENGTH_CHROM - actionCounter) / LENGTH_CHROM\n",
        "    else:\n",
        "        score = abs(observation[0] - FLAG_LOCATION)\n",
        "\n",
        "    return score,"
      ],
      "metadata": {
        "id": "BJzvEonm-tPO"
      },
      "execution_count": 11,
      "outputs": []
    },
    {
      "cell_type": "code",
      "source": [
        "toolbox.register(\"evaluate\", getCarScore)\n",
        "toolbox.register(\"select\", tools.selTournament, tournsize=2)\n",
        "toolbox.register(\"mate\", tools.cxTwoPoint)\n",
        "toolbox.register(\"mutate\", tools.mutUniformInt, low=0, up=2, indpb=1.0/LENGTH_CHROM)"
      ],
      "metadata": {
        "id": "7d8-nP88-w5O"
      },
      "execution_count": 12,
      "outputs": []
    },
    {
      "cell_type": "code",
      "source": [
        "stats = tools.Statistics(lambda ind: ind.fitness.values)\n",
        "stats.register(\"min\", np.min)\n",
        "stats.register(\"avg\", np.mean)"
      ],
      "metadata": {
        "id": "PCG2TFm0-1oe"
      },
      "execution_count": 13,
      "outputs": []
    },
    {
      "cell_type": "code",
      "source": [
        "import algelitism"
      ],
      "metadata": {
        "id": "jlPik_oMAYVe"
      },
      "execution_count": 25,
      "outputs": []
    },
    {
      "cell_type": "code",
      "source": [
        "population, logbook = algelitism.eaSimpleElitism(population, toolbox,\n",
        "                                        cxpb=P_CROSSOVER,\n",
        "                                        mutpb=P_MUTATION,\n",
        "                                        ngen=MAX_GENERATIONS,\n",
        "                                        halloffame=hof,\n",
        "                                        stats=stats,\n",
        "                                        verbose=True)"
      ],
      "metadata": {
        "colab": {
          "base_uri": "https://localhost:8080/"
        },
        "id": "Pnhle_iSAWl_",
        "outputId": "f7940427-b008-4f49-8185-09d2b60dad58"
      },
      "execution_count": 26,
      "outputs": [
        {
          "output_type": "stream",
          "name": "stderr",
          "text": [
            "/usr/local/lib/python3.10/dist-packages/gym/utils/passive_env_checker.py:241: DeprecationWarning: `np.bool8` is a deprecated alias for `np.bool_`.  (Deprecated NumPy 1.24)\n",
            "  if not isinstance(terminated, (bool, np.bool8)):\n"
          ]
        },
        {
          "output_type": "stream",
          "name": "stdout",
          "text": [
            "gen\tnevals\tmin     \tavg    \n",
            "0  \t50    \t0.674343\t1.02394\n",
            "1  \t44    \t0.674343\t0.963981\n",
            "2  \t44    \t0.674343\t0.907391\n",
            "3  \t44    \t0.674343\t0.853569\n",
            "4  \t41    \t0.665453\t0.797086\n",
            "5  \t46    \t0.627622\t0.740801\n",
            "6  \t42    \t0.588929\t0.709519\n",
            "7  \t44    \t0.588929\t0.681857\n",
            "8  \t38    \t0.552849\t0.651995\n",
            "9  \t43    \t0.474239\t0.631379\n",
            "10 \t45    \t0.474239\t0.609642\n",
            "11 \t42    \t0.440958\t0.58995 \n",
            "12 \t45    \t0.401771\t0.57096 \n",
            "13 \t44    \t0.401771\t0.571777\n",
            "14 \t44    \t0.368178\t0.558113\n",
            "15 \t44    \t0.401771\t0.526472\n",
            "16 \t44    \t0.345053\t0.503798\n",
            "17 \t40    \t0.345053\t0.483408\n",
            "18 \t46    \t0.344926\t0.469889\n",
            "19 \t45    \t0.345053\t0.440549\n",
            "20 \t45    \t0.341881\t0.433201\n",
            "21 \t44    \t0.341881\t0.436522\n",
            "22 \t44    \t0.341881\t0.418365\n",
            "23 \t46    \t0.341881\t0.424006\n",
            "24 \t42    \t0.341881\t0.423793\n",
            "25 \t42    \t0.341881\t0.416597\n",
            "26 \t45    \t0.32981 \t0.411666\n",
            "27 \t44    \t0.32981 \t0.407858\n",
            "28 \t42    \t0.32981 \t0.407504\n",
            "29 \t45    \t0.312022\t0.408243\n",
            "30 \t39    \t0.32981 \t0.407671\n",
            "31 \t37    \t0.319865\t0.406924\n",
            "32 \t37    \t0.319865\t0.39707 \n",
            "33 \t46    \t0.319865\t0.387186\n",
            "34 \t43    \t0.319865\t0.388832\n",
            "35 \t44    \t0.319865\t0.402195\n",
            "36 \t42    \t0.316132\t0.379522\n",
            "37 \t42    \t0.316132\t0.393278\n",
            "38 \t45    \t0.312342\t0.396755\n",
            "39 \t42    \t0.300814\t0.376394\n",
            "40 \t40    \t0.300814\t0.373031\n",
            "41 \t45    \t0.300814\t0.385536\n",
            "42 \t39    \t0.297139\t0.361703\n",
            "43 \t44    \t0.295686\t0.379075\n",
            "44 \t46    \t0.295686\t0.376528\n",
            "45 \t39    \t0.285875\t0.355438\n",
            "46 \t43    \t0.274571\t0.368574\n",
            "47 \t42    \t0.285875\t0.37406 \n",
            "48 \t44    \t0.285875\t0.366767\n",
            "49 \t42    \t0.278366\t0.363472\n",
            "50 \t46    \t0.272908\t0.362192\n",
            "51 \t46    \t0.272908\t0.351913\n",
            "52 \t42    \t0.272908\t0.356438\n",
            "53 \t40    \t0.271324\t0.340922\n",
            "54 \t45    \t0.271324\t0.342477\n",
            "55 \t43    \t0.263758\t0.32518 \n",
            "56 \t43    \t0.263758\t0.329631\n",
            "57 \t44    \t0.256128\t0.322489\n",
            "58 \t38    \t0.256128\t0.323986\n",
            "59 \t44    \t0.248123\t0.328543\n",
            "60 \t41    \t0.248123\t0.326368\n",
            "61 \t42    \t0.248123\t0.320157\n",
            "62 \t39    \t0.248123\t0.314236\n",
            "63 \t45    \t0.22819 \t0.315887\n",
            "64 \t44    \t0.22819 \t0.311939\n",
            "65 \t44    \t0.22171 \t0.306189\n",
            "66 \t43    \t0.208788\t0.286571\n",
            "67 \t46    \t0.193383\t0.283349\n",
            "68 \t40    \t0.193383\t0.273813\n",
            "69 \t39    \t0.188377\t0.257691\n",
            "70 \t40    \t0.179059\t0.236643\n",
            "71 \t42    \t0.170585\t0.227315\n",
            "72 \t46    \t0.170585\t0.238287\n",
            "73 \t45    \t0.1657  \t0.231054\n",
            "74 \t42    \t0.167807\t0.223228\n",
            "75 \t41    \t0.169477\t0.226325\n",
            "76 \t40    \t0.163412\t0.212134\n",
            "77 \t42    \t0.161033\t0.223357\n",
            "78 \t42    \t0.159529\t0.221649\n",
            "79 \t42    \t0.159529\t0.219108\n",
            "80 \t42    \t0.159529\t0.215026\n",
            "81 \t42    \t0.15031 \t0.210464\n",
            "82 \t42    \t0.15031 \t0.208884\n",
            "83 \t44    \t0.136837\t0.204735\n",
            "84 \t45    \t0.136837\t0.217375\n",
            "85 \t43    \t0.136837\t0.201404\n",
            "86 \t45    \t0.136837\t0.206613\n",
            "87 \t44    \t0.130527\t0.194013\n",
            "88 \t44    \t0.130527\t0.214993\n",
            "89 \t40    \t0.130527\t0.209948\n",
            "90 \t47    \t0.130527\t0.208335\n",
            "91 \t45    \t0.122795\t0.202825\n",
            "92 \t36    \t0.122795\t0.187407\n",
            "93 \t46    \t0.119255\t0.204658\n",
            "94 \t39    \t0.119107\t0.199545\n",
            "95 \t39    \t0.118949\t0.191288\n",
            "96 \t44    \t0.118949\t0.188495\n",
            "97 \t39    \t0.117007\t0.18269 \n",
            "98 \t38    \t0.113016\t0.178795\n",
            "99 \t40    \t0.103211\t0.183744\n",
            "100\t41    \t0.103211\t0.184461\n",
            "101\t42    \t0.0991175\t0.173833\n",
            "102\t38    \t0.0986608\t0.194417\n",
            "103\t42    \t0.0986608\t0.197302\n",
            "104\t43    \t0.0933444\t0.168554\n",
            "105\t45    \t0.0933444\t0.173364\n",
            "106\t38    \t0.0933444\t0.166922\n",
            "107\t39    \t0.0878279\t0.148819\n",
            "108\t43    \t0.0878279\t0.161818\n",
            "109\t40    \t0.0780216\t0.144811\n",
            "110\t43    \t0.0294684\t0.153864\n",
            "111\t45    \t0.0294684\t0.158075\n",
            "112\t39    \t0.0294684\t0.144964\n",
            "113\t40    \t0.0294684\t0.136934\n",
            "114\t45    \t0.0294684\t0.133304\n",
            "115\t44    \t0.0150902\t0.121921\n",
            "116\t40    \t0.0150902\t0.135032\n",
            "117\t43    \t-0.005   \t0.110092\n",
            "118\t44    \t-0.005   \t0.102209\n",
            "119\t40    \t-0.005   \t0.107987\n",
            "120\t45    \t-0.005   \t0.0898954\n",
            "121\t41    \t-0.005   \t0.0952415\n",
            "122\t45    \t-0.005   \t0.0908646\n",
            "123\t44    \t-0.005   \t0.0979166\n",
            "124\t40    \t-0.005   \t0.0949629\n",
            "125\t43    \t-0.005   \t0.102078 \n",
            "126\t43    \t-0.005   \t0.102075 \n",
            "127\t44    \t-0.005   \t0.0851535\n",
            "128\t42    \t-0.005   \t0.0818274\n",
            "129\t42    \t-0.01    \t0.0826418\n",
            "130\t43    \t-0.01    \t0.0837975\n",
            "131\t39    \t-0.01    \t0.0787105\n",
            "132\t45    \t-0.01    \t0.0815381\n",
            "133\t42    \t-0.01    \t0.0777996\n",
            "134\t45    \t-0.015   \t0.0703684\n",
            "135\t44    \t-0.015   \t0.0541682\n",
            "136\t44    \t-0.015   \t0.0523137\n",
            "137\t44    \t-0.015   \t0.0557597\n",
            "138\t42    \t-0.015   \t0.0522295\n",
            "139\t42    \t-0.015   \t0.0658991\n",
            "140\t43    \t-0.015   \t0.0543069\n",
            "141\t45    \t-0.015   \t0.0491511\n",
            "142\t45    \t-0.015   \t0.0549343\n",
            "143\t44    \t-0.025   \t0.0567287\n",
            "144\t43    \t-0.025   \t0.0495637\n",
            "145\t42    \t-0.025   \t0.0559773\n",
            "146\t43    \t-0.025   \t0.0545804\n",
            "147\t42    \t-0.025   \t0.0511931\n",
            "148\t43    \t-0.025   \t0.0362107\n",
            "149\t42    \t-0.025   \t0.0324681\n",
            "150\t44    \t-0.025   \t0.0208244\n"
          ]
        }
      ]
    },
    {
      "cell_type": "code",
      "source": [
        "maxFitnessValues, meanFitnessValues = logbook.select(\"min\", \"avg\")"
      ],
      "metadata": {
        "id": "_z0aMkyGK9TN"
      },
      "execution_count": 27,
      "outputs": []
    },
    {
      "cell_type": "code",
      "source": [
        "best = hof.items[0]\n",
        "print(best)"
      ],
      "metadata": {
        "colab": {
          "base_uri": "https://localhost:8080/"
        },
        "id": "bkJZSNc0LDT1",
        "outputId": "74da3a1d-b485-470d-f6ab-cf80abfe376b"
      },
      "execution_count": 28,
      "outputs": [
        {
          "output_type": "stream",
          "name": "stdout",
          "text": [
            "[1, 2, 2, 1, 0, 1, 2, 2, 1, 1, 2, 2, 2, 0, 0, 2, 1, 2, 2, 1, 1, 2, 2, 2, 2, 2, 2, 2, 2, 2, 1, 2, 2, 2, 2, 0, 0, 1, 2, 2, 0, 1, 1, 2, 2, 0, 0, 0, 2, 0, 0, 0, 0, 0, 2, 0, 1, 0, 0, 1, 1, 0, 1, 0, 0, 2, 0, 0, 0, 0, 2, 2, 1, 1, 1, 0, 2, 2, 0, 2, 1, 0, 2, 2, 2, 2, 1, 1, 1, 1, 2, 2, 0, 0, 2, 2, 2, 2, 2, 2, 0, 2, 2, 1, 2, 1, 0, 0, 1, 0, 2, 1, 2, 2, 2, 2, 1, 1, 0, 1, 0, 2, 0, 0, 1, 1, 0, 0, 0, 0, 0, 0, 0, 0, 1, 0, 0, 0, 0, 0, 0, 0, 1, 0, 2, 1, 0, 0, 1, 0, 0, 1, 0, 1, 2, 0, 2, 2, 2, 2, 1, 2, 2, 2, 2, 2, 1, 2, 2, 2, 2, 2, 2, 2, 2, 2, 2, 1, 1, 2, 1, 2, 2, 2, 2, 2, 2, 2, 2, 1, 1, 2, 1, 2, 2, 2, 0, 1, 2, 0]\n"
          ]
        }
      ]
    },
    {
      "cell_type": "code",
      "source": [
        "plt.plot(maxFitnessValues, color='red')\n",
        "plt.plot(meanFitnessValues, color='green')\n",
        "plt.xlabel('Поколение')\n",
        "plt.ylabel('Макс/средняя приспособленность')\n",
        "plt.title('Зависимость максимальной и средней приспособленности от поколения')\n",
        "plt.show()"
      ],
      "metadata": {
        "colab": {
          "base_uri": "https://localhost:8080/",
          "height": 472
        },
        "id": "E0uPD3CHLG5l",
        "outputId": "d9fbc3eb-1973-45d1-e8f1-0db9b35f8e74"
      },
      "execution_count": 29,
      "outputs": [
        {
          "output_type": "display_data",
          "data": {
            "text/plain": [
              "<Figure size 640x480 with 1 Axes>"
            ],
            "image/png": "[encoded data removed]"
          },
          "metadata": {}
        }
      ]
    },
    {
      "cell_type": "code",
      "source": [
        "env = gym.make('MountainCar-v0', render_mode='human')\n",
        "observation = env.reset()\n",
        "for action in best:\n",
        "    env.step(action)\n",
        "    env.render()\n",
        "\n",
        "env.close()"
      ],
      "metadata": {
        "colab": {
          "base_uri": "https://localhost:8080/"
        },
        "id": "FYc3LGPsLKvI",
        "outputId": "51291111-64e2-4904-b96e-4ed358c1b914"
      },
      "execution_count": 34,
      "outputs": [
        {
          "output_type": "stream",
          "name": "stderr",
          "text": [
            "/usr/local/lib/python3.10/dist-packages/ipykernel/ipkernel.py:283: DeprecationWarning: `should_run_async` will not call `transform_cell` automatically in the future. Please pass the result to `transformed_cell` argument and any exception that happen during thetransform in `preprocessing_exc_tuple` in IPython 7.17 and above.\n",
            "  and should_run_async(code)\n",
            "/usr/local/lib/python3.10/dist-packages/gym/core.py:317: DeprecationWarning: \u001b[33mWARN: Initializing wrapper in old step API which returns one bool instead of two. It is recommended to set `new_step_api=True` to use new step API. This will be the default behaviour in future.\u001b[0m\n",
            "  deprecation(\n",
            "/usr/local/lib/python3.10/dist-packages/gym/wrappers/step_api_compatibility.py:39: DeprecationWarning: \u001b[33mWARN: Initializing environment in old step API which returns one bool instead of two. It is recommended to set `new_step_api=True` to use new step API. This will be the default behaviour in future.\u001b[0m\n",
            "  deprecation(\n",
            "/usr/local/lib/python3.10/dist-packages/gym/utils/passive_env_checker.py:241: DeprecationWarning: `np.bool8` is a deprecated alias for `np.bool_`.  (Deprecated NumPy 1.24)\n",
            "  if not isinstance(terminated, (bool, np.bool8)):\n"
          ]
        }
      ]
    }
  ]
}